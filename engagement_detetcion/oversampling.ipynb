{
 "cells": [
  {
   "cell_type": "code",
   "execution_count": 30,
   "id": "61a4ae6e",
   "metadata": {},
   "outputs": [],
   "source": [
    "import ast\n",
    "import json\n",
    "import numpy as np\n",
    "import pandas as pd\n",
    "from collections import Counter\n",
    "from matplotlib import pyplot as plt\n",
    "from matplotlib.patches import Patch"
   ]
  },
  {
   "cell_type": "code",
   "execution_count": 2,
   "id": "2570e79b",
   "metadata": {},
   "outputs": [
    {
     "data": {
      "text/html": [
       "<div>\n",
       "<style scoped>\n",
       "    .dataframe tbody tr th:only-of-type {\n",
       "        vertical-align: middle;\n",
       "    }\n",
       "\n",
       "    .dataframe tbody tr th {\n",
       "        vertical-align: top;\n",
       "    }\n",
       "\n",
       "    .dataframe thead th {\n",
       "        text-align: right;\n",
       "    }\n",
       "</style>\n",
       "<table border=\"1\" class=\"dataframe\">\n",
       "  <thead>\n",
       "    <tr style=\"text-align: right;\">\n",
       "      <th></th>\n",
       "      <th>clip</th>\n",
       "      <th>split</th>\n",
       "      <th>engagement_class</th>\n",
       "      <th>features</th>\n",
       "    </tr>\n",
       "  </thead>\n",
       "  <tbody>\n",
       "    <tr>\n",
       "      <th>0</th>\n",
       "      <td>DAiSEE\\DataSet\\Train\\110001\\1100011002\\1100011...</td>\n",
       "      <td>Train</td>\n",
       "      <td>2</td>\n",
       "      <td>[[2.536451600790529, 0.3208898518646281, 18.88...</td>\n",
       "    </tr>\n",
       "    <tr>\n",
       "      <th>1</th>\n",
       "      <td>DAiSEE\\DataSet\\Train\\110001\\1100011003\\1100011...</td>\n",
       "      <td>Train</td>\n",
       "      <td>2</td>\n",
       "      <td>[[2.9946811775481077, 0.38348249442368526, 18....</td>\n",
       "    </tr>\n",
       "    <tr>\n",
       "      <th>2</th>\n",
       "      <td>DAiSEE\\DataSet\\Train\\110001\\1100011004\\1100011...</td>\n",
       "      <td>Train</td>\n",
       "      <td>3</td>\n",
       "      <td>[[3.018555394812198, 0.3579455265819088, 18.85...</td>\n",
       "    </tr>\n",
       "    <tr>\n",
       "      <th>3</th>\n",
       "      <td>DAiSEE\\DataSet\\Train\\110001\\1100011005\\1100011...</td>\n",
       "      <td>Train</td>\n",
       "      <td>3</td>\n",
       "      <td>[[2.661259769475439, 0.40877269439290326, 18.4...</td>\n",
       "    </tr>\n",
       "    <tr>\n",
       "      <th>4</th>\n",
       "      <td>DAiSEE\\DataSet\\Train\\110001\\1100011006\\1100011...</td>\n",
       "      <td>Train</td>\n",
       "      <td>3</td>\n",
       "      <td>[[2.978869316858684, 0.3905124837953327, 18.18...</td>\n",
       "    </tr>\n",
       "  </tbody>\n",
       "</table>\n",
       "</div>"
      ],
      "text/plain": [
       "                                                clip  split  engagement_class  \\\n",
       "0  DAiSEE\\DataSet\\Train\\110001\\1100011002\\1100011...  Train                 2   \n",
       "1  DAiSEE\\DataSet\\Train\\110001\\1100011003\\1100011...  Train                 2   \n",
       "2  DAiSEE\\DataSet\\Train\\110001\\1100011004\\1100011...  Train                 3   \n",
       "3  DAiSEE\\DataSet\\Train\\110001\\1100011005\\1100011...  Train                 3   \n",
       "4  DAiSEE\\DataSet\\Train\\110001\\1100011006\\1100011...  Train                 3   \n",
       "\n",
       "                                            features  \n",
       "0  [[2.536451600790529, 0.3208898518646281, 18.88...  \n",
       "1  [[2.9946811775481077, 0.38348249442368526, 18....  \n",
       "2  [[3.018555394812198, 0.3579455265819088, 18.85...  \n",
       "3  [[2.661259769475439, 0.40877269439290326, 18.4...  \n",
       "4  [[2.978869316858684, 0.3905124837953327, 18.18...  "
      ]
     },
     "execution_count": 2,
     "metadata": {},
     "output_type": "execute_result"
    }
   ],
   "source": [
    "df = pd.read_csv(\"features.csv\")\n",
    "df.head()"
   ]
  },
  {
   "cell_type": "code",
   "execution_count": 3,
   "id": "59ca85a4",
   "metadata": {},
   "outputs": [
    {
     "data": {
      "text/plain": [
       "(8924, 4)"
      ]
     },
     "execution_count": 3,
     "metadata": {},
     "output_type": "execute_result"
    }
   ],
   "source": [
    "df.shape"
   ]
  },
  {
   "cell_type": "code",
   "execution_count": 4,
   "id": "956e9a5f",
   "metadata": {},
   "outputs": [],
   "source": [
    "def safe_parse(x):\n",
    "    try:\n",
    "        return ast.literal_eval(x) if isinstance(x, str) else x\n",
    "    except:\n",
    "        return []"
   ]
  },
  {
   "cell_type": "code",
   "execution_count": 5,
   "id": "56222553",
   "metadata": {},
   "outputs": [],
   "source": [
    "def relabel_class(cls):\n",
    "    if cls in [0, 1]:\n",
    "        return 0\n",
    "    elif cls == 2:\n",
    "        return 1\n",
    "    elif cls == 3:\n",
    "        return 2\n",
    "    else:\n",
    "        return -1"
   ]
  },
  {
   "cell_type": "code",
   "execution_count": 14,
   "id": "3a476fc0",
   "metadata": {},
   "outputs": [
    {
     "data": {
      "text/plain": [
       "(8920, 5)"
      ]
     },
     "execution_count": 14,
     "metadata": {},
     "output_type": "execute_result"
    }
   ],
   "source": [
    "df[\"features\"] = df[\"features\"].apply(safe_parse)\n",
    "df = df[df['features'].apply(lambda x: len(x) > 0)].reset_index(drop=True)\n",
    "df.shape"
   ]
  },
  {
   "cell_type": "code",
   "execution_count": 15,
   "id": "fc941088",
   "metadata": {},
   "outputs": [
    {
     "data": {
      "text/plain": [
       "Counter({2: 4421, 3: 3983, 1: 455, 0: 61})"
      ]
     },
     "execution_count": 15,
     "metadata": {},
     "output_type": "execute_result"
    }
   ],
   "source": [
    "original_counter = Counter(df['engagement_class'])\n",
    "original_counter"
   ]
  },
  {
   "cell_type": "code",
   "execution_count": 16,
   "id": "5481b949",
   "metadata": {},
   "outputs": [
    {
     "data": {
      "text/html": [
       "<div>\n",
       "<style scoped>\n",
       "    .dataframe tbody tr th:only-of-type {\n",
       "        vertical-align: middle;\n",
       "    }\n",
       "\n",
       "    .dataframe tbody tr th {\n",
       "        vertical-align: top;\n",
       "    }\n",
       "\n",
       "    .dataframe thead th {\n",
       "        text-align: right;\n",
       "    }\n",
       "</style>\n",
       "<table border=\"1\" class=\"dataframe\">\n",
       "  <thead>\n",
       "    <tr style=\"text-align: right;\">\n",
       "      <th></th>\n",
       "      <th>clip</th>\n",
       "      <th>split</th>\n",
       "      <th>engagement_class</th>\n",
       "      <th>features</th>\n",
       "      <th>relabelled_enagegement_class</th>\n",
       "    </tr>\n",
       "  </thead>\n",
       "  <tbody>\n",
       "    <tr>\n",
       "      <th>0</th>\n",
       "      <td>DAiSEE\\DataSet\\Train\\110001\\1100011002\\1100011...</td>\n",
       "      <td>Train</td>\n",
       "      <td>2</td>\n",
       "      <td>[[2.536451600790529, 0.3208898518646281, 18.88...</td>\n",
       "      <td>1</td>\n",
       "    </tr>\n",
       "    <tr>\n",
       "      <th>1</th>\n",
       "      <td>DAiSEE\\DataSet\\Train\\110001\\1100011003\\1100011...</td>\n",
       "      <td>Train</td>\n",
       "      <td>2</td>\n",
       "      <td>[[2.9946811775481077, 0.38348249442368526, 18....</td>\n",
       "      <td>1</td>\n",
       "    </tr>\n",
       "    <tr>\n",
       "      <th>2</th>\n",
       "      <td>DAiSEE\\DataSet\\Train\\110001\\1100011004\\1100011...</td>\n",
       "      <td>Train</td>\n",
       "      <td>3</td>\n",
       "      <td>[[3.018555394812198, 0.3579455265819088, 18.85...</td>\n",
       "      <td>2</td>\n",
       "    </tr>\n",
       "    <tr>\n",
       "      <th>3</th>\n",
       "      <td>DAiSEE\\DataSet\\Train\\110001\\1100011005\\1100011...</td>\n",
       "      <td>Train</td>\n",
       "      <td>3</td>\n",
       "      <td>[[2.661259769475439, 0.40877269439290326, 18.4...</td>\n",
       "      <td>2</td>\n",
       "    </tr>\n",
       "    <tr>\n",
       "      <th>4</th>\n",
       "      <td>DAiSEE\\DataSet\\Train\\110001\\1100011006\\1100011...</td>\n",
       "      <td>Train</td>\n",
       "      <td>3</td>\n",
       "      <td>[[2.978869316858684, 0.3905124837953327, 18.18...</td>\n",
       "      <td>2</td>\n",
       "    </tr>\n",
       "  </tbody>\n",
       "</table>\n",
       "</div>"
      ],
      "text/plain": [
       "                                                clip  split  engagement_class  \\\n",
       "0  DAiSEE\\DataSet\\Train\\110001\\1100011002\\1100011...  Train                 2   \n",
       "1  DAiSEE\\DataSet\\Train\\110001\\1100011003\\1100011...  Train                 2   \n",
       "2  DAiSEE\\DataSet\\Train\\110001\\1100011004\\1100011...  Train                 3   \n",
       "3  DAiSEE\\DataSet\\Train\\110001\\1100011005\\1100011...  Train                 3   \n",
       "4  DAiSEE\\DataSet\\Train\\110001\\1100011006\\1100011...  Train                 3   \n",
       "\n",
       "                                            features  \\\n",
       "0  [[2.536451600790529, 0.3208898518646281, 18.88...   \n",
       "1  [[2.9946811775481077, 0.38348249442368526, 18....   \n",
       "2  [[3.018555394812198, 0.3579455265819088, 18.85...   \n",
       "3  [[2.661259769475439, 0.40877269439290326, 18.4...   \n",
       "4  [[2.978869316858684, 0.3905124837953327, 18.18...   \n",
       "\n",
       "   relabelled_enagegement_class  \n",
       "0                             1  \n",
       "1                             1  \n",
       "2                             2  \n",
       "3                             2  \n",
       "4                             2  "
      ]
     },
     "execution_count": 16,
     "metadata": {},
     "output_type": "execute_result"
    }
   ],
   "source": [
    "df['relabelled_enagegement_class'] = df['engagement_class'].apply(relabel_class)\n",
    "df.head()"
   ]
  },
  {
   "cell_type": "code",
   "execution_count": 17,
   "id": "6ec59399",
   "metadata": {},
   "outputs": [
    {
     "data": {
      "text/plain": [
       "Counter({1: 4421, 2: 3983, 0: 516})"
      ]
     },
     "execution_count": 17,
     "metadata": {},
     "output_type": "execute_result"
    }
   ],
   "source": [
    "counter_after_relabel = Counter(df['relabelled_enagegement_class'])\n",
    "counter_after_relabel"
   ]
  },
  {
   "cell_type": "code",
   "execution_count": 18,
   "id": "08828475",
   "metadata": {},
   "outputs": [],
   "source": [
    "def normalize_frames(features_list, target_frames=300, pad_threshold=5):\n",
    "    \"\"\"\n",
    "    Helper function to normalize frame count to target_frames (300):\n",
    "    - If frames >= 300: take first 300 frames\n",
    "    - If frames < 300 and difference <= pad_threshold: pad by repeating last frame\n",
    "    - Otherwise: return None (skip this sample)\n",
    "    \"\"\"\n",
    "    features = np.array(features_list)\n",
    "    current_frames = features.shape[0]\n",
    "    \n",
    "    if current_frames >= target_frames:\n",
    "        # Take first 300 frames\n",
    "        return features[:target_frames]\n",
    "    \n",
    "    elif current_frames < target_frames and (target_frames - current_frames) <= pad_threshold:\n",
    "        # Pad by repeating the last frame\n",
    "        frames_to_pad = target_frames - current_frames\n",
    "        last_frame = features[-1:]  # Shape: (1, 6)\n",
    "        padding = np.repeat(last_frame, frames_to_pad, axis=0)  # Shape: (frames_to_pad, 6)\n",
    "        return np.vstack([features, padding])  # Shape: (300, 6)\n",
    "    \n",
    "    else:\n",
    "        # Too many frames missing, skip this sample\n",
    "        return None\n"
   ]
  },
  {
   "cell_type": "code",
   "execution_count": 19,
   "id": "fd65ad19",
   "metadata": {},
   "outputs": [],
   "source": [
    "def oversample_engagement_data(df):\n",
    "    \"\"\"\n",
    "    Apply the oversampling method based on the diagram:\n",
    "    1. Extract 60 average frames from 300 frames (window size = 5)\n",
    "    2. Divide into 10 sequences of 6 frames each\n",
    "    3. For each sequence, create 6 segments (1 frame each)\n",
    "    4. Sample based on engagement class:\n",
    "       - High/Very High (class 1,2): 1 sample using 1st segment from each sequence\n",
    "       - Low (class 0): 6 samples using all segment combinations\n",
    "    \"\"\"\n",
    "    oversampled_data = []\n",
    "    skipped_count = 0\n",
    "    normalized_count = 0\n",
    "    \n",
    "    for index, row in df.iterrows():\n",
    "        raw_features = row['features']\n",
    "        engagement_class = row['relabelled_enagegement_class']\n",
    "        \n",
    "        # Normalize frame count to 300\n",
    "        features = normalize_frames(raw_features)\n",
    "        \n",
    "        if features is None:\n",
    "            print(f\"Skipping row {index}: too many frames missing (original: {len(raw_features)} frames)\")\n",
    "            skipped_count += 1\n",
    "            continue\n",
    "        \n",
    "        # Check if normalization was applied\n",
    "        if len(raw_features) != 300:\n",
    "            normalized_count += 1\n",
    "            \n",
    "        # Ensure features have the expected shape\n",
    "        if features.shape[1] != 6:\n",
    "            print(f\"Skipping row {index}: unexpected feature dimension {features.shape[1]} (expected 6)\")\n",
    "            skipped_count += 1\n",
    "            continue\n",
    "        \n",
    "        # Step 1: Extract 60 average frames (window size = 5)\n",
    "        averaged_frames = []\n",
    "        for i in range(0, 300, 5):  # 0, 5, 10, ..., 295\n",
    "            window = features[i:i+5]  # 5 consecutive frames\n",
    "            avg_frame = np.mean(window, axis=0)  # Average across 5 frames\n",
    "            averaged_frames.append(avg_frame)\n",
    "        \n",
    "        averaged_frames = np.array(averaged_frames)  # Shape: (60, 6)\n",
    "        \n",
    "        # Step 2: Divide into 10 sequences of 6 frames each\n",
    "        sequences = []\n",
    "        for seq_idx in range(10):\n",
    "            start_idx = seq_idx * 6\n",
    "            end_idx = start_idx + 6\n",
    "            sequence = averaged_frames[start_idx:end_idx]  # Shape: (6, 6)\n",
    "            sequences.append(sequence)\n",
    "        \n",
    "        # Step 3 & 4: Sample based on engagement class\n",
    "        if engagement_class in [1, 2]:  # High (1) and Very High (2)\n",
    "            # Get 1 sample: 1st segment from each sequence\n",
    "            sample = []\n",
    "            for seq in sequences:\n",
    "                sample.append(seq[0])  # 1st segment (1st frame) from each sequence\n",
    "            \n",
    "            sample_data = np.array(sample)  # Shape: (10, 6)\n",
    "            oversampled_data.append({\n",
    "                'features': sample_data,\n",
    "                'engagement_class': engagement_class,\n",
    "                'original_index': index,\n",
    "                'clip': row['clip'],\n",
    "                'split': row['split']\n",
    "            })\n",
    "            \n",
    "        elif engagement_class == 0:  # Low (combined very_low and low)\n",
    "            # Get 6 samples: each using different segment from each sequence\n",
    "            for segment_idx in range(6):\n",
    "                sample = []\n",
    "                for seq in sequences:\n",
    "                    sample.append(seq[segment_idx])  # segment_idx-th frame from each sequence\n",
    "                \n",
    "                sample_data = np.array(sample)  # Shape: (10, 6)\n",
    "                oversampled_data.append({\n",
    "                    'features': sample_data,\n",
    "                    'engagement_class': engagement_class,\n",
    "                    'original_index': index,\n",
    "                    'clip': row['clip'],\n",
    "                    'split': row['split'],\n",
    "                    'segment_idx': segment_idx  # Track which segment combination this is\n",
    "                })\n",
    "    \n",
    "    print(f\"Processing complete:\")\n",
    "    print(f\"- Normalized {normalized_count} videos (padded or truncated)\")\n",
    "    print(f\"- Skipped {skipped_count} videos (too many missing frames or wrong dimensions)\")\n",
    "    print(f\"- Successfully processed {len(oversampled_data)} samples\")\n",
    "    \n",
    "    return oversampled_data"
   ]
  },
  {
   "cell_type": "code",
   "execution_count": 20,
   "id": "f6571d50",
   "metadata": {},
   "outputs": [
    {
     "name": "stdout",
     "output_type": "stream",
     "text": [
      "Applying oversampling method...\n",
      "Skipping row 1285: too many frames missing (original: 247 frames)\n",
      "Skipping row 3110: too many frames missing (original: 285 frames)\n",
      "Skipping row 3343: too many frames missing (original: 123 frames)\n",
      "Skipping row 3358: too many frames missing (original: 255 frames)\n",
      "Skipping row 3367: too many frames missing (original: 92 frames)\n",
      "Skipping row 3528: too many frames missing (original: 294 frames)\n",
      "Skipping row 3530: too many frames missing (original: 278 frames)\n",
      "Skipping row 3905: too many frames missing (original: 279 frames)\n",
      "Skipping row 4301: too many frames missing (original: 235 frames)\n",
      "Skipping row 4362: too many frames missing (original: 171 frames)\n",
      "Skipping row 4521: too many frames missing (original: 282 frames)\n",
      "Skipping row 5276: too many frames missing (original: 270 frames)\n",
      "Skipping row 5282: too many frames missing (original: 283 frames)\n",
      "Skipping row 5416: too many frames missing (original: 289 frames)\n",
      "Skipping row 5417: too many frames missing (original: 289 frames)\n",
      "Skipping row 5418: too many frames missing (original: 289 frames)\n",
      "Skipping row 5420: too many frames missing (original: 289 frames)\n",
      "Skipping row 5421: too many frames missing (original: 289 frames)\n",
      "Skipping row 5446: too many frames missing (original: 293 frames)\n",
      "Skipping row 5447: too many frames missing (original: 293 frames)\n",
      "Skipping row 5448: too many frames missing (original: 293 frames)\n",
      "Skipping row 5450: too many frames missing (original: 293 frames)\n",
      "Skipping row 5451: too many frames missing (original: 293 frames)\n",
      "Skipping row 5452: too many frames missing (original: 293 frames)\n",
      "Skipping row 5453: too many frames missing (original: 293 frames)\n",
      "Skipping row 5454: too many frames missing (original: 293 frames)\n",
      "Skipping row 5455: too many frames missing (original: 293 frames)\n",
      "Skipping row 5456: too many frames missing (original: 293 frames)\n",
      "Skipping row 5457: too many frames missing (original: 293 frames)\n",
      "Skipping row 5458: too many frames missing (original: 293 frames)\n",
      "Skipping row 5459: too many frames missing (original: 293 frames)\n",
      "Skipping row 5461: too many frames missing (original: 293 frames)\n",
      "Skipping row 5462: too many frames missing (original: 293 frames)\n",
      "Skipping row 5463: too many frames missing (original: 293 frames)\n",
      "Skipping row 5464: too many frames missing (original: 293 frames)\n",
      "Skipping row 5465: too many frames missing (original: 293 frames)\n",
      "Skipping row 5467: too many frames missing (original: 293 frames)\n",
      "Skipping row 5468: too many frames missing (original: 293 frames)\n",
      "Skipping row 5469: too many frames missing (original: 293 frames)\n",
      "Skipping row 5470: too many frames missing (original: 293 frames)\n",
      "Skipping row 5471: too many frames missing (original: 293 frames)\n",
      "Skipping row 5472: too many frames missing (original: 293 frames)\n",
      "Skipping row 5473: too many frames missing (original: 293 frames)\n",
      "Skipping row 5474: too many frames missing (original: 293 frames)\n",
      "Skipping row 5475: too many frames missing (original: 293 frames)\n",
      "Skipping row 5476: too many frames missing (original: 293 frames)\n",
      "Skipping row 6478: too many frames missing (original: 284 frames)\n",
      "Skipping row 6786: too many frames missing (original: 249 frames)\n",
      "Skipping row 6792: too many frames missing (original: 268 frames)\n",
      "Skipping row 6793: too many frames missing (original: 276 frames)\n",
      "Skipping row 6835: too many frames missing (original: 275 frames)\n",
      "Skipping row 6852: too many frames missing (original: 267 frames)\n",
      "Skipping row 6899: too many frames missing (original: 254 frames)\n",
      "Skipping row 7020: too many frames missing (original: 294 frames)\n",
      "Skipping row 7026: too many frames missing (original: 276 frames)\n",
      "Skipping row 7033: too many frames missing (original: 263 frames)\n",
      "Skipping row 7040: too many frames missing (original: 281 frames)\n",
      "Skipping row 7041: too many frames missing (original: 65 frames)\n",
      "Skipping row 7056: too many frames missing (original: 284 frames)\n",
      "Skipping row 7085: too many frames missing (original: 288 frames)\n",
      "Skipping row 7198: too many frames missing (original: 294 frames)\n",
      "Skipping row 7199: too many frames missing (original: 294 frames)\n",
      "Skipping row 8375: too many frames missing (original: 292 frames)\n",
      "Skipping row 8426: too many frames missing (original: 262 frames)\n",
      "Skipping row 8444: too many frames missing (original: 278 frames)\n",
      "Skipping row 8561: too many frames missing (original: 289 frames)\n",
      "Skipping row 8602: too many frames missing (original: 288 frames)\n",
      "Skipping row 8675: too many frames missing (original: 290 frames)\n",
      "Skipping row 8676: too many frames missing (original: 290 frames)\n",
      "Skipping row 8678: too many frames missing (original: 290 frames)\n",
      "Skipping row 8679: too many frames missing (original: 290 frames)\n",
      "Skipping row 8680: too many frames missing (original: 290 frames)\n",
      "Skipping row 8681: too many frames missing (original: 290 frames)\n",
      "Skipping row 8682: too many frames missing (original: 290 frames)\n",
      "Skipping row 8683: too many frames missing (original: 290 frames)\n",
      "Skipping row 8684: too many frames missing (original: 290 frames)\n",
      "Skipping row 8686: too many frames missing (original: 290 frames)\n",
      "Skipping row 8687: too many frames missing (original: 290 frames)\n",
      "Skipping row 8764: too many frames missing (original: 274 frames)\n",
      "Skipping row 8765: too many frames missing (original: 281 frames)\n",
      "Skipping row 8769: too many frames missing (original: 168 frames)\n",
      "Skipping row 8788: too many frames missing (original: 288 frames)\n",
      "Processing complete:\n",
      "- Normalized 709 videos (padded or truncated)\n",
      "- Skipped 82 videos (too many missing frames or wrong dimensions)\n",
      "- Successfully processed 11363 samples\n",
      "Total oversampled samples: 11363\n"
     ]
    }
   ],
   "source": [
    "print(\"Applying oversampling method...\")\n",
    "oversampled_data = oversample_engagement_data(df)\n",
    "print(f\"Total oversampled samples: {len(oversampled_data)}\")"
   ]
  },
  {
   "cell_type": "code",
   "execution_count": 21,
   "id": "ba039009",
   "metadata": {},
   "outputs": [
    {
     "data": {
      "text/plain": [
       "Counter({1: 4393, 2: 3940, 0: 3030})"
      ]
     },
     "execution_count": 21,
     "metadata": {},
     "output_type": "execute_result"
    }
   ],
   "source": [
    "counter_after_oversampling = Counter([item['engagement_class'] for item in oversampled_data])\n",
    "counter_after_oversampling"
   ]
  },
  {
   "cell_type": "code",
   "execution_count": 29,
   "id": "6249451d",
   "metadata": {},
   "outputs": [
    {
     "data": {
      "image/png": "[encoded data removed]",
      "text/plain": [
       "<Figure size 1800x800 with 3 Axes>"
      ]
     },
     "metadata": {},
     "output_type": "display_data"
    }
   ],
   "source": [
    "original_labels = list(original_counter.keys())\n",
    "original_values = list(original_counter.values())\n",
    "\n",
    "relabelled_labels = list(counter_after_relabel.keys())\n",
    "relabelled_values = list(counter_after_relabel.values())\n",
    "\n",
    "oversampled_labels = list(counter_after_oversampling.keys())\n",
    "oversampled_values = list(counter_after_oversampling.values())\n",
    "\n",
    "# Define legends for each subplot\n",
    "legend_original = [\n",
    "    Patch(color='skyblue', label='0: Very Low'),\n",
    "    Patch(color='skyblue', label='1: Low'),\n",
    "    Patch(color='skyblue', label='2: High'),\n",
    "    Patch(color='skyblue', label='3: Very High')\n",
    "]\n",
    "\n",
    "legend_relabelled = [\n",
    "    Patch(color='salmon', label='0: Low'),\n",
    "    Patch(color='salmon', label='1: High'),\n",
    "    Patch(color='salmon', label='2: Very High')\n",
    "]\n",
    "\n",
    "legend_oversampled = [\n",
    "    Patch(color='lightgreen', label='0: Low'),\n",
    "    Patch(color='lightgreen', label='1: High'),\n",
    "    Patch(color='lightgreen', label='2: Very High')\n",
    "]\n",
    "\n",
    "fig, axs = plt.subplots(1, 3, figsize=(18, 8))\n",
    "\n",
    "# --- Original distribution ---\n",
    "axs[0].bar(original_labels, original_values, color='skyblue')\n",
    "axs[0].set_title('Original Engagement Class Distribution')\n",
    "axs[0].set_xlabel('Class')\n",
    "axs[0].set_ylabel('Count')\n",
    "axs[0].set_xticks(original_labels)\n",
    "for i, v in enumerate(original_values):\n",
    "    axs[0].text(original_labels[i], v + 50, str(v), ha='center', va='bottom')\n",
    "axs[0].legend(handles=legend_original, loc='upper right')\n",
    "\n",
    "# --- After relabeling ---\n",
    "axs[1].bar(relabelled_labels, relabelled_values, color='salmon')\n",
    "axs[1].set_title('Relabelled Engagement Class Distribution')\n",
    "axs[1].set_xlabel('Class')\n",
    "axs[1].set_ylabel('Count')\n",
    "axs[1].set_xticks(relabelled_labels)\n",
    "for i, v in enumerate(relabelled_values):\n",
    "    axs[1].text(relabelled_labels[i], v + 50, str(v), ha='center', va='bottom')\n",
    "axs[1].legend(handles=legend_relabelled, loc='upper right')\n",
    "\n",
    "# --- After oversampling ---\n",
    "axs[2].bar(oversampled_labels, oversampled_values, color='lightgreen')\n",
    "axs[2].set_title('After Oversampling Distribution')\n",
    "axs[2].set_xlabel('Class')\n",
    "axs[2].set_ylabel('Count')\n",
    "axs[2].set_xticks(oversampled_labels)\n",
    "for i, v in enumerate(oversampled_values):\n",
    "    axs[2].text(oversampled_labels[i], v + 50, str(v), ha='center', va='bottom')\n",
    "axs[2].legend(handles=legend_oversampled, loc='upper right')\n",
    "\n",
    "plt.tight_layout()\n",
    "plt.show()"
   ]
  },
  {
   "cell_type": "code",
   "execution_count": 31,
   "id": "b433121f",
   "metadata": {},
   "outputs": [],
   "source": [
    "oversampled_df = pd.DataFrame(oversampled_data)\n",
    "oversampled_df['features'] = oversampled_df['features'].apply(lambda x: json.dumps(x.tolist()))\n",
    "oversampled_df.to_csv(\"oversampled_data.csv\", index=False)"
   ]
  },
  {
   "cell_type": "code",
   "execution_count": null,
   "id": "3fd0dc38",
   "metadata": {},
   "outputs": [],
   "source": []
  }
 ],
 "metadata": {
  "kernelspec": {
   "display_name": ".venv",
   "language": "python",
   "name": "python3"
  },
  "language_info": {
   "codemirror_mode": {
    "name": "ipython",
    "version": 3
   },
   "file_extension": ".py",
   "mimetype": "text/x-python",
   "name": "python",
   "nbconvert_exporter": "python",
   "pygments_lexer": "ipython3",
   "version": "3.12.7"
  }
 },
 "nbformat": 4,
 "nbformat_minor": 5
}
